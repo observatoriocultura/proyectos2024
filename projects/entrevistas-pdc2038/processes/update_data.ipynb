{
 "cells": [
  {
   "cell_type": "code",
   "execution_count": 12,
   "metadata": {},
   "outputs": [],
   "source": [
    "import pandas as pd"
   ]
  },
  {
   "cell_type": "code",
   "execution_count": 13,
   "metadata": {},
   "outputs": [],
   "source": [
    "# Variables de referencia\n",
    "analisis_file_id = '1pHlYlsVhiWiHZs-Syxfg8rMIXU9O8WNFDdOOS-bdjyk'\n",
    "horizontes_gid = '1984132162'\n",
    "conclusiones_gid = '1585673098'\n",
    "data_folder = '../data/'"
   ]
  },
  {
   "cell_type": "code",
   "execution_count": 14,
   "metadata": {},
   "outputs": [],
   "source": [
    "# Leer archivo y guardarlo\n",
    "url_horizontes = f'https://docs.google.com/spreadsheets/d/{analisis_file_id}/export?format=csv&gid={horizontes_gid}'\n",
    "df_horizontes = pd.read_csv(url_horizontes)\n",
    "df_horizontes.to_json(f'{data_folder}/horizontes.json',index=False, orient='records', indent=1)"
   ]
  },
  {
   "cell_type": "code",
   "execution_count": null,
   "metadata": {},
   "outputs": [
    {
     "name": "stdout",
     "output_type": "stream",
     "text": [
      "https://docs.google.com/spreadsheets/d/1pHlYlsVhiWiHZs-Syxfg8rMIXU9O8WNFDdOOS-bdjyk/export?format=csv&gid=1585673098\n"
     ]
    }
   ],
   "source": [
    "# Leer archivo y guardarlo\n",
    "url_conclusiones = f'https://docs.google.com/spreadsheets/d/{analisis_file_id}/export?format=csv&gid={conclusiones_gid}'\n",
    "df_conclusiones = pd.read_csv(url_conclusiones)\n",
    "df_conclusiones.sort_values(by='relevancia', ascending=True, inplace=True)\n",
    "df_conclusiones.to_json(f'{data_folder}/conclusiones.json',index=False, orient='records', indent=1)"
   ]
  },
  {
   "cell_type": "code",
   "execution_count": 20,
   "metadata": {},
   "outputs": [],
   "source": [
    "df_conclusiones.sort_values(by='relevancia', ascending=False, inplace=True)\n",
    "df_conclusiones.head(20)\n",
    "df_conclusiones.to_json(f'{data_folder}/conclusiones.json',index=False, orient='records', indent=1)"
   ]
  }
 ],
 "metadata": {
  "kernelspec": {
   "display_name": "Python 3",
   "language": "python",
   "name": "python3"
  },
  "language_info": {
   "codemirror_mode": {
    "name": "ipython",
    "version": 3
   },
   "file_extension": ".py",
   "mimetype": "text/x-python",
   "name": "python",
   "nbconvert_exporter": "python",
   "pygments_lexer": "ipython3",
   "version": "3.12.5"
  }
 },
 "nbformat": 4,
 "nbformat_minor": 2
}
